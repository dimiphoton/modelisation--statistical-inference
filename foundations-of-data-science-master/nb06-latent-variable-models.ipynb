{
 "cells": [
  {
   "cell_type": "markdown",
   "id": "05080d5f-640d-4a95-bba4-f0dadda33ce5",
   "metadata": {},
   "source": [
    "# `nb06`: Latent variable models"
   ]
  },
  {
   "cell_type": "markdown",
   "id": "a78222c9-7f79-4309-8c52-e94444641a17",
   "metadata": {},
   "source": [
    "<img src=\"./figures/nb06/lvm.png\" width=\"40%\" />"
   ]
  },
  {
   "cell_type": "code",
   "execution_count": 1,
   "id": "9f5bc112-332b-4db6-8aef-b9e1b129a42b",
   "metadata": {},
   "outputs": [],
   "source": [
    "import numpy as np\n",
    "from scipy.stats import norm, multivariate_normal, dirichlet, multinomial\n",
    "import matplotlib.pyplot as plt"
   ]
  },
  {
   "cell_type": "markdown",
   "id": "9840a4d7-6c7b-4bf2-9993-ce89f04bc85a",
   "metadata": {},
   "source": [
    "# Probabilistic PCA"
   ]
  },
  {
   "cell_type": "code",
   "execution_count": 2,
   "id": "c52ba7cc-b286-4a05-b753-43d37e590b60",
   "metadata": {},
   "outputs": [
    {
     "name": "stdout",
     "output_type": "stream",
     "text": [
      "z = [0.38369876 1.77439179]\n",
      "x = [ 0.87162369  3.22319256 -0.1022444  -1.59216259  1.47776616  0.28011997\n",
      "  0.05102719  1.12167422  2.04900939  0.27803282]\n"
     ]
    }
   ],
   "source": [
    "# Parameters\n",
    "n_latents = 2\n",
    "n_features = 10\n",
    "\n",
    "B = np.random.rand(n_features, n_latents)   # Set to random values\n",
    "mu = 0\n",
    "sigma2 = 1\n",
    "\n",
    "# Forward generative model\n",
    "z = norm(0, 1).rvs(size=n_latents)\n",
    "x = norm(np.dot(B, z) + mu, sigma2).rvs()\n",
    "\n",
    "print(\"z =\", z)\n",
    "print(\"x =\", x)"
   ]
  },
  {
   "cell_type": "markdown",
   "id": "05f84429-cc3b-424a-8a68-71531164d047",
   "metadata": {
    "tags": []
   },
   "source": [
    "# Mixture model"
   ]
  },
  {
   "cell_type": "code",
   "execution_count": 3,
   "id": "e46fe85f-e4c7-445e-809c-384b61fd8055",
   "metadata": {},
   "outputs": [],
   "source": [
    "# Parameters\n",
    "K = 3\n",
    "N = 200\n",
    "\n",
    "alpha = np.ones(K) * 1.5\n",
    "sigma2_0 = 10.0\n",
    "\n",
    "# Forward generative model\n",
    "theta = dirichlet(alpha).rvs().ravel()\n",
    "# theta is a K-dimensional vector of Dirichlet parameters\n",
    "mu = multivariate_normal(np.zeros(2), sigma2_0).rvs(K)\n",
    "# mu is a K-dimensional array of mean vectors\n",
    "\n",
    "\n",
    "z = multinomial(1, theta).rvs(N)\n",
    "z = np.argmax(z, axis=1)\n",
    "x = np.zeros((N, 2))\n",
    "\n",
    "for i in range(N):\n",
    "    x[i] = multivariate_normal(mu[z[i]]).rvs()"
   ]
  },
  {
   "cell_type": "code",
   "execution_count": null,
   "id": "b2372b77",
   "metadata": {},
   "outputs": [],
   "source": []
  },
  {
   "cell_type": "code",
   "execution_count": 4,
   "id": "f1be9c11-ca24-41db-aa8a-24c30f00958f",
   "metadata": {},
   "outputs": [
    {
     "data": {
      "image/png": "[encoded data removed]",
      "text/plain": [
       "<Figure size 640x480 with 1 Axes>"
      ]
     },
     "metadata": {},
     "output_type": "display_data"
    }
   ],
   "source": [
    "fig = plt.figure()\n",
    "ax = plt.axes()\n",
    "\n",
    "for k in range(K):\n",
    "    ax.scatter(x[z == k, 0], x[z == k, 1])\n",
    "\n",
    "ax.set(aspect=\"equal\")\n",
    "plt.show()"
   ]
  },
  {
   "cell_type": "markdown",
   "id": "31b7be3c-e330-4e7b-9de4-c48f863f9084",
   "metadata": {},
   "source": [
    "# Latent Dirichlet Allocation\n",
    "\n",
    "<img src=\"./figures/nb06/lda.png\" width=\"60%\" /> \n",
    "\n",
    "(Reproduced from [Blei, 2011](https://www.eecis.udel.edu/~shatkay/Course/papers/UIntrotoTopicModelsBlei2011-5.pdf).)\n",
    "\n",
    "- Each topic is a distribution over words\n",
    "- Each document is a mixture of corpus-wide topics\n",
    "- Each word is drawn from one of those topics"
   ]
  },
  {
   "cell_type": "code",
   "execution_count": 5,
   "id": "184414d4-a4ab-44b5-ab51-8c877fd010cc",
   "metadata": {},
   "outputs": [],
   "source": [
    "# Draw LDA as a graphical model\n",
    "\n"
   ]
  },
  {
   "cell_type": "code",
   "execution_count": 6,
   "id": "a051e17a-58ed-4a10-8c7b-2564713fa95f",
   "metadata": {},
   "outputs": [],
   "source": [
    "# Write a probabilistic generative model\n",
    "# ..."
   ]
  }
 ],
 "metadata": {
  "kernelspec": {
   "display_name": "datascience",
   "language": "python",
   "name": "python3"
  },
  "language_info": {
   "codemirror_mode": {
    "name": "ipython",
    "version": 3
   },
   "file_extension": ".py",
   "mimetype": "text/x-python",
   "name": "python",
   "nbconvert_exporter": "python",
   "pygments_lexer": "ipython3",
   "version": "3.10.6"
  }
 },
 "nbformat": 4,
 "nbformat_minor": 5
}
