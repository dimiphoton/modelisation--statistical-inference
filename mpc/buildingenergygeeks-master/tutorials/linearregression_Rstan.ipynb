{
 "cells": [
  {
   "cell_type": "markdown",
   "id": "8c9f8181",
   "metadata": {},
   "source": [
    "# Bayesian linear regression with R and Stan\n",
    "\n",
    "We will now conduct linear regression in a Bayesian framework. We use the [Stan probabilistic programming language](https://mc-stan.org/), which allows full Bayesian statistical inference. A Stan model is a block of text which can either be written in a separate file, or in the same script as the current code. A model defined in its own file can then be called within either language: R, Python, Julia...\n",
    "\n",
    "This tutorial uses the same case study as the OLR tutorials with Python and R. Here, Stan is used with R.\n",
    "\n",
    "In the previous OLR tutorial, we selected a linear model with three predictors `(T_i-T_e)`, `I_{sol}` and `(T_i-T_s)`. The model can be written in probability form: each of the data points `e_{hp,n}` is normally distributed with a constant noise standard deviation $\\sigma$:\n",
    "\n",
    "$$ e_{hp,n} \\sim N( \\theta_1 (T_i-T_e)_n + \\theta_2 I_{sol,n} + \\theta_3 (T_i-T_s)_n, \\sigma) $$"
   ]
  },
  {
   "cell_type": "code",
   "execution_count": 1,
   "id": "a2cf5b9c",
   "metadata": {},
   "outputs": [
    {
     "name": "stderr",
     "output_type": "stream",
     "text": [
      "── Attaching packages ─────────────────────────────────────── tidyverse 1.2.1 ──\n",
      "✔ ggplot2 3.0.0     ✔ purrr   0.2.5\n",
      "✔ tibble  1.4.2     ✔ dplyr   0.7.6\n",
      "✔ tidyr   0.8.1     ✔ stringr 1.2.0\n",
      "✔ readr   1.1.1     ✔ forcats 0.3.0\n",
      "── Conflicts ────────────────────────────────────────── tidyverse_conflicts() ──\n",
      "✖ dplyr::filter() masks stats::filter()\n",
      "✖ dplyr::lag()    masks stats::lag()\n",
      "\n",
      "Attaching package: ‘lubridate’\n",
      "\n",
      "The following object is masked from ‘package:base’:\n",
      "\n",
      "    date\n",
      "\n",
      "Loading required package: StanHeaders\n",
      "rstan (Version 2.17.3, GitRev: 2e1f913d3ca3)\n",
      "For execution on a local, multicore CPU with excess RAM we recommend calling\n",
      "options(mc.cores = parallel::detectCores()).\n",
      "To avoid recompilation of unchanged Stan programs, we recommend calling\n",
      "rstan_options(auto_write = TRUE)\n",
      "\n",
      "Attaching package: ‘rstan’\n",
      "\n",
      "The following object is masked from ‘package:tidyr’:\n",
      "\n",
      "    extract\n",
      "\n",
      "Parsed with column specification:\n",
      "cols(\n",
      "  TIMESTAMP = col_date(format = \"\"),\n",
      "  e_hp = col_double(),\n",
      "  e_dhw = col_double(),\n",
      "  e_fan = col_double(),\n",
      "  e_other = col_double(),\n",
      "  ti = col_double(),\n",
      "  tg = col_double(),\n",
      "  ts = col_double(),\n",
      "  te = col_double(),\n",
      "  i_sol = col_double(),\n",
      "  wind_speed = col_double()\n",
      ")\n"
     ]
    }
   ],
   "source": [
    "library(tidyverse)\n",
    "library(lubridate)\n",
    "library(rstan)\n",
    "\n",
    "df <- read_csv(\"data/linearregression.csv\") %>% \n",
    "        transform(TIMESTAMP = ymd(TIMESTAMP)) %>%\n",
    "        mutate(tite = ti - te,\n",
    "                titg = ti - tg,\n",
    "                tits = ti - ts,\n",
    "                vtite = wind_speed * (ti-te))"
   ]
  },
  {
   "cell_type": "markdown",
   "id": "5203841d",
   "metadata": {},
   "source": [
    "Of course, the Stan documentation has [an example of linear regression model](https://mc-stan.org/docs/2_27/stan-users-guide/linear-regression.html). The following block defines a model with any number of predictors `K`, and no intercept.\n",
    "\n",
    "Then, a list called `model_data` is created, which maps each part of the data to its appropriate variable into the STAN model. This list must contain all variables defined in the `data` block of the model.\n",
    "\n",
    "After the model is specified and the data is been mapped to its variables, the model can be fitted by MCMC."
   ]
  },
  {
   "cell_type": "code",
   "execution_count": null,
   "id": "383adccb",
   "metadata": {},
   "outputs": [],
   "source": [
    "lr_model= \"\n",
    "data {\n",
    "  int<lower=0> N;   // number of data items\n",
    "  int<lower=0> K;   // number of predictors\n",
    "  matrix[N, K] x;   // predictor matrix\n",
    "  vector[N] y;      // outcome vector\n",
    "}\n",
    "parameters {\n",
    "  vector[K] theta;       // coefficients for predictors\n",
    "  real<lower=0> sigma;  // error scale\n",
    "}\n",
    "model {\n",
    "  y ~ normal(x * theta, sigma);  // likelihood\n",
    "}\n",
    "\"\n",
    "\n",
    "model_data <- list(\n",
    "  N = nrow(df),\n",
    "  K = 3,\n",
    "  x = df %>% select(tite, i_sol, tits),\n",
    "  y = df$e_hp\n",
    ")\n",
    "\n",
    "fit1 <- stan(\n",
    "  model_code = lr_model,    # Stan program\n",
    "  data = model_data,        # named list of data\n",
    "  chains = 4,               # number of Markov chains\n",
    "  warmup = 1000,            # number of warmup iterations per chain\n",
    "  iter = 4000,              # total number of iterations per chain\n",
    "  cores = 1,\n",
    ")"
   ]
  },
  {
   "cell_type": "markdown",
   "id": "5826eb53",
   "metadata": {},
   "source": [
    "Fitting may result in a number of warnings, telling us that some problems may have occurred: divergent transitions, large R-hat values, low Effective Sample Size... Obtaining a fit without these warnings takes some practice but is essential for an unbiased interpretation of the inferred variables and predictions. A guide to Stan's warnings and how to address them [is available here](https://mc-stan.org/misc/warnings.html).\n",
    "\n",
    "Stan returns an object (called `fit1` above) [from which the distributions of outputs and parameters of the fitted model can be accessed](https://cran.r-project.org/web/packages/rstan/vignettes/stanfit-objects.html)\n",
    "\n",
    "As a first validation step, it is useful to take a look at the values of the parameters that have been estimated by the algorithm. Below, we use three diagnostics tools:\n",
    "\n",
    "* The `print` method shows the table of parameters, much like we could display after an ordinary linear regression\n",
    "* `traceplot` shows the traces of the selected parameters. If the fitting has converged, the traces approximate the posterior distributions\n",
    "* `pairs` shows the pairwise relationships between parameters. Strong interactions between some parameters are an indication that the model should be re-parameterised."
   ]
  },
  {
   "cell_type": "code",
   "execution_count": null,
   "id": "85556eaa",
   "metadata": {},
   "outputs": [],
   "source": [
    "print(fit1)\n",
    "traceplot(fit1)\n",
    "pairs(fit1)"
   ]
  },
  {
   "cell_type": "markdown",
   "id": "316d7eb3",
   "metadata": {},
   "source": [
    "The `n_eff` and `Rhat` indices show that convergence is fine (see Sec. \\@ref(computation)). We are therefore allowed to carry on and interpret the results.\n",
    "\n",
    "There is strong interaction between some parameters. The numerical results are almost identical to the non-Bayesian model. This is not surprising as we used exactly the same model with no prior distribution on any parameter.\n"
   ]
  }
 ],
 "metadata": {
  "kernelspec": {
   "display_name": "R",
   "language": "R",
   "name": "ir"
  },
  "language_info": {
   "codemirror_mode": "r",
   "file_extension": ".r",
   "mimetype": "text/x-r-source",
   "name": "R",
   "pygments_lexer": "r",
   "version": "3.5.1"
  }
 },
 "nbformat": 4,
 "nbformat_minor": 5
}
