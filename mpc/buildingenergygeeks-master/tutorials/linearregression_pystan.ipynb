{
 "cells": [
  {
   "cell_type": "markdown",
   "id": "8c9f8181",
   "metadata": {},
   "source": [
    "# Bayesian linear regression with pystan\n",
    "\n",
    "We will now conduct linear regression in a Bayesian framework. We use the [Stan probabilistic programming language](https://mc-stan.org/), which allows full Bayesian statistical inference. A Stan model is a block of text which can either be written in a separate file, or in the same script as the current code. A model defined in its own file can then be called within either language: R, Python, Julia...\n",
    "\n",
    "This tutorial uses the same case study as the OLR tutorials with Python and R. Here, Stan is used with Python.\n",
    "\n",
    "In the previous OLR tutorial, we selected a linear model with three predictors `(T_i-T_e)`, `I_{sol}` and `(T_i-T_s)`. The model can be written in probability form: each of the data points `e_{hp,n}` is normally distributed with a constant noise standard deviation $\\sigma$:\n",
    "\n",
    "$$ e_{hp,n} \\sim N( \\theta_1 (T_i-T_e)_n + \\theta_2 I_{sol,n} + \\theta_3 (T_i-T_s)_n, \\sigma) $$"
   ]
  },
  {
   "cell_type": "code",
   "execution_count": 1,
   "id": "a2cf5b9c",
   "metadata": {},
   "outputs": [
    {
     "ename": "ERROR",
     "evalue": "Error in parse(text = x, srcfile = src): <text>:2:8: unexpected symbol\n1: # The holy trinity\n2: import pandas\n          ^\n",
     "output_type": "error",
     "traceback": [
      "Error in parse(text = x, srcfile = src): <text>:2:8: unexpected symbol\n1: # The holy trinity\n2: import pandas\n          ^\nTraceback:\n"
     ]
    }
   ],
   "source": [
    "# The holy trinity\n",
    "import pandas as pd\n",
    "import stan\n",
    "\n",
    "# Opening the data file and showing the timestamps to pandas\n",
    "df = pd.read_csv('data/linearregression.csv')\n",
    "df.set_index(pd.to_datetime(df['TIMESTAMP']), inplace=True, drop=True)\n",
    "\n",
    "df['tits'] = df['ti'] - df['ts']\n",
    "df['vtite'] = df['wind_speed'] * (df['ti'] - df['te'])\n",
    "df['tite'] = df['ti'] - df['te']\n",
    "df['titg'] = df['ti'] - df['tg']\n",
    "\n",
    "lr_model= \"\"\"\n",
    "data {\n",
    "  int<lower=0> N;   // number of data items\n",
    "  int<lower=0> K;   // number of predictors\n",
    "  matrix[N, K] x;   // predictor matrix\n",
    "  vector[N] y;      // outcome vector\n",
    "}\n",
    "parameters {\n",
    "  vector[K] theta;       // coefficients for predictors\n",
    "  real<lower=0> sigma;  // error scale\n",
    "}\n",
    "model {\n",
    "  y ~ normal(x * theta, sigma);  // likelihood\n",
    "}\n",
    "\"\"\"\n",
    "\n",
    "lr_data = {'N': len(df),\n",
    "            'K': 3,\n",
    "            'x': df[['tite', 'i_sol', 'tits']].values,\n",
    "            'y': df['e_hp'].values}\n",
    "\n",
    "posterior = stan.build(lr_model, data=lr_data)\n",
    "fit = posterior.sample(num_chains=2, num_samples=1000, cores=1)\n",
    "df_post = fit.to_frame()\n",
    "\n",
    "print(fit)"
   ]
  }
 ],
 "metadata": {
  "kernelspec": {
   "display_name": "Python 3 (ipykernel)",
   "language": "python",
   "name": "python3"
  },
  "language_info": {
   "codemirror_mode": {
    "name": "ipython",
    "version": 3
   },
   "file_extension": ".py",
   "mimetype": "text/x-python",
   "name": "python",
   "nbconvert_exporter": "python",
   "pygments_lexer": "ipython3",
   "version": "3.7.11"
  }
 },
 "nbformat": 4,
 "nbformat_minor": 5
}
