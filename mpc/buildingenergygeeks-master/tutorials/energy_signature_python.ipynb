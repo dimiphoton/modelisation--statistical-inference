{
 "cells": [
  {
   "cell_type": "markdown",
   "metadata": {},
   "source": [
    "## Energy signature method\n",
    "\n",
    "The energy signature of a building is a very simple model of its energy consumption profile (all energies combined) as a function of the outdoor temperature. Provided a long enough monitoring period of a building, the method is able to provide a crude estimation of its heat loss coefficient (HLC), and to separate its energy consumption into two (or three) main parts: heating and/or cooling, and other uses. Using a trained energy signature model to predict the energy use is possible, but comes with a large uncertainty.\n",
    "\n",
    "The appeal of this method is that the data we need to train the model is very easy to obtain:\n",
    "* Outdoor air temperature\n",
    "* Energy consumption\n",
    "\n",
    "We don't even need a short time step between each meter reading, as the data will be resampled (averaged) over samples of one or several days.\n",
    "\n",
    "## The model\n",
    "\n",
    "The model is written here in terms of the average power $\\Phi$ (W) between energy readings (kWh).\n",
    "\n",
    "The total electrical power used in a building is decomposed into three parts: the baseline consumption $\\Phi_b$ (lighting, appliances, DHW...), heating power $\\Phi_h$ and cooling power $\\Phi_c$ \n",
    "\n",
    "$$ \\Phi = \\Phi_b + \\Phi_h + \\Phi_c $$\n",
    "\n",
    "The energy signature method relates the heating and cooling energy use to easily measured environmental parameters, typically the outdoor temperature. The model relies on the following, very convenient hypotheses:\n",
    "* Steady-state: each data point is the average of readings over a sufficiently long period (several days), so that dynamic effects can be overlooked.\n",
    "* The baseline consumption $\\Phi_b$ is constant over this broad sampling frequency.\n",
    "* The indoor temperature is assumed to be quasi-constant, so that heating only is needed when the outdoor temperature $T_e$ is lower than a base temperature $T_{b1}$. The heating power is then only proportional to the HLC.\n",
    "* The influence of all other environmental factors is neglected.\n",
    "\n",
    "The heating power is then approached by the following equations:\n",
    "\n",
    "$$ \\Phi_h = \\mathrm{HLC}_1 \\, (T_{b1}-T_e) \\quad \\mathrm{if} \\quad T_e \\leq T_{b1} $$\n",
    "$$ \\Phi_h = 0 \\quad \\mathrm{if} \\quad T_e > T_{b1} $$\n",
    "\n",
    "<img src='figures/epa01_energy_signature.png' width=250 />\n",
    "\n",
    "If the building has air conditioning, the same relation can be assumed for cooling, if the outdoor temperature exceeds a threshold $T_{b2}$:\n",
    "\n",
    "$$ \\Phi_c = 0 \\quad \\mathrm{if} \\quad T_e < T_{b2} $$\n",
    "$$ \\Phi_c = \\mathrm{HLC}_2 \\, (T_e - T_{b2}) \\quad \\mathrm{if} \\quad T_e \\geq T_{b2} $$\n",
    "\n",
    "The model therefore has either three or five unknown parameters:\n",
    "* The baseline power $\\Phi_b$\n",
    "* The heat loss coefficient HLC, which may have a different value in heating than in cooling conditions\n",
    "* One or two threshold temperatures $T_b$\n",
    "\n",
    "## The data\n",
    "\n",
    "The data used in this example to illustrate the energy signature method is the hourly energy consumption and outdoor air temperature data for 11 commercial buildings (office/retail), publicly available here:\n",
    "\n",
    "https://openei.org/datasets/dataset/consumption-outdoor-air-temperature-11-commercial-buildings\n",
    "\n",
    "The code written below supposes that the data files have been downloaded and saved to a `/data` folder. We are only going to use three of the available data files, which are three consecutive years from a single office building: `building60preoffice.csv`, `building61duringoffice.csv` and `building62postoffice.csv`.\n",
    "\n",
    "It starts by some imports."
   ]
  },
  {
   "cell_type": "code",
   "execution_count": 1,
   "metadata": {},
   "outputs": [],
   "source": [
    "import pandas as pd\n",
    "import numpy as np\n",
    "import matplotlib.pyplot as plt\n",
    "\n",
    "%matplotlib inline"
   ]
  },
  {
   "cell_type": "markdown",
   "metadata": {},
   "source": [
    "A data analysis exercise usually starts by taking a look at the formatting of the data files."
   ]
  },
  {
   "cell_type": "code",
   "execution_count": 2,
   "metadata": {},
   "outputs": [
    {
     "data": {
      "text/html": [
       "<div>\n",
       "<style scoped>\n",
       "    .dataframe tbody tr th:only-of-type {\n",
       "        vertical-align: middle;\n",
       "    }\n",
       "\n",
       "    .dataframe tbody tr th {\n",
       "        vertical-align: top;\n",
       "    }\n",
       "\n",
       "    .dataframe thead th {\n",
       "        text-align: right;\n",
       "    }\n",
       "</style>\n",
       "<table border=\"1\" class=\"dataframe\">\n",
       "  <thead>\n",
       "    <tr style=\"text-align: right;\">\n",
       "      <th></th>\n",
       "      <th>Date</th>\n",
       "      <th>OAT</th>\n",
       "      <th>Building 6 kW</th>\n",
       "    </tr>\n",
       "  </thead>\n",
       "  <tbody>\n",
       "    <tr>\n",
       "      <th>0</th>\n",
       "      <td>1/2/2009 0:00</td>\n",
       "      <td>41.6</td>\n",
       "      <td>23.3</td>\n",
       "    </tr>\n",
       "    <tr>\n",
       "      <th>1</th>\n",
       "      <td>1/2/2009 1:00</td>\n",
       "      <td>40.9</td>\n",
       "      <td>23.1</td>\n",
       "    </tr>\n",
       "    <tr>\n",
       "      <th>2</th>\n",
       "      <td>1/2/2009 2:00</td>\n",
       "      <td>39.5</td>\n",
       "      <td>23.7</td>\n",
       "    </tr>\n",
       "    <tr>\n",
       "      <th>3</th>\n",
       "      <td>1/2/2009 3:00</td>\n",
       "      <td>36.3</td>\n",
       "      <td>29.1</td>\n",
       "    </tr>\n",
       "    <tr>\n",
       "      <th>4</th>\n",
       "      <td>1/2/2009 4:00</td>\n",
       "      <td>32.8</td>\n",
       "      <td>35.6</td>\n",
       "    </tr>\n",
       "  </tbody>\n",
       "</table>\n",
       "</div>"
      ],
      "text/plain": [
       "            Date   OAT  Building 6 kW\n",
       "0  1/2/2009 0:00  41.6           23.3\n",
       "1  1/2/2009 1:00  40.9           23.1\n",
       "2  1/2/2009 2:00  39.5           23.7\n",
       "3  1/2/2009 3:00  36.3           29.1\n",
       "4  1/2/2009 4:00  32.8           35.6"
      ]
     },
     "execution_count": 2,
     "metadata": {},
     "output_type": "execute_result"
    }
   ],
   "source": [
    "df = pd.read_csv('data/building60preoffice.csv')\n",
    "df.head()"
   ]
  },
  {
   "cell_type": "markdown",
   "metadata": {},
   "source": [
    "The datafile is already \"clean\" with no missing value (one can check this with `np.any(pd.isna(df))` for instance). The only data processing we will do before defining and training the model is:\n",
    "* Translating the `Date` column into a datetime object which Python understands as temporal data\n",
    "* Converting the outdoor air temperature `OAT` from (F) to (C) because the data originates from the USA\n",
    "* Averaging the data over periods of one day\n",
    "* Noting the day of the week, because this factor usually has an impact on the consumption of retail and office buildings"
   ]
  },
  {
   "cell_type": "code",
   "execution_count": 3,
   "metadata": {},
   "outputs": [
    {
     "data": {
      "text/html": [
       "<div>\n",
       "<style scoped>\n",
       "    .dataframe tbody tr th:only-of-type {\n",
       "        vertical-align: middle;\n",
       "    }\n",
       "\n",
       "    .dataframe tbody tr th {\n",
       "        vertical-align: top;\n",
       "    }\n",
       "\n",
       "    .dataframe thead th {\n",
       "        text-align: right;\n",
       "    }\n",
       "</style>\n",
       "<table border=\"1\" class=\"dataframe\">\n",
       "  <thead>\n",
       "    <tr style=\"text-align: right;\">\n",
       "      <th></th>\n",
       "      <th>OAT</th>\n",
       "      <th>Building 6 kW</th>\n",
       "      <th>Te</th>\n",
       "      <th>week_day</th>\n",
       "    </tr>\n",
       "    <tr>\n",
       "      <th>Date</th>\n",
       "      <th></th>\n",
       "      <th></th>\n",
       "      <th></th>\n",
       "      <th></th>\n",
       "    </tr>\n",
       "  </thead>\n",
       "  <tbody>\n",
       "    <tr>\n",
       "      <th>2009-01-02</th>\n",
       "      <td>33.375000</td>\n",
       "      <td>36.787500</td>\n",
       "      <td>0.763889</td>\n",
       "      <td>4</td>\n",
       "    </tr>\n",
       "    <tr>\n",
       "      <th>2009-01-03</th>\n",
       "      <td>18.908333</td>\n",
       "      <td>44.187500</td>\n",
       "      <td>-7.273148</td>\n",
       "      <td>5</td>\n",
       "    </tr>\n",
       "    <tr>\n",
       "      <th>2009-01-04</th>\n",
       "      <td>17.700000</td>\n",
       "      <td>48.645833</td>\n",
       "      <td>-7.944444</td>\n",
       "      <td>6</td>\n",
       "    </tr>\n",
       "    <tr>\n",
       "      <th>2009-01-05</th>\n",
       "      <td>23.445833</td>\n",
       "      <td>51.983333</td>\n",
       "      <td>-4.752315</td>\n",
       "      <td>0</td>\n",
       "    </tr>\n",
       "    <tr>\n",
       "      <th>2009-01-06</th>\n",
       "      <td>45.941667</td>\n",
       "      <td>41.891667</td>\n",
       "      <td>7.745370</td>\n",
       "      <td>1</td>\n",
       "    </tr>\n",
       "  </tbody>\n",
       "</table>\n",
       "</div>"
      ],
      "text/plain": [
       "                  OAT  Building 6 kW        Te  week_day\n",
       "Date                                                    \n",
       "2009-01-02  33.375000      36.787500  0.763889         4\n",
       "2009-01-03  18.908333      44.187500 -7.273148         5\n",
       "2009-01-04  17.700000      48.645833 -7.944444         6\n",
       "2009-01-05  23.445833      51.983333 -4.752315         0\n",
       "2009-01-06  45.941667      41.891667  7.745370         1"
      ]
     },
     "execution_count": 3,
     "metadata": {},
     "output_type": "execute_result"
    }
   ],
   "source": [
    "df.set_index(pd.to_datetime(df['Date']), inplace=True)\n",
    "df['Te'] = (df['OAT']-32) * 5/9\n",
    "\n",
    "# New dataframe for the daily averaged data\n",
    "df_day = df.resample('D').mean()\n",
    "\n",
    "# Week days\n",
    "df_day['week_day'] = [df_day.index[_].weekday() for _ in range(len(df_day))]\n",
    "weekend = (df_day['week_day']==5) | (df_day['week_day']==6)\n",
    "\n",
    "df_day.head()"
   ]
  },
  {
   "cell_type": "markdown",
   "metadata": {},
   "source": [
    "We can now take a look at the relationship between air temperature and power, in order to see if there is a trend."
   ]
  },
  {
   "cell_type": "code",
   "execution_count": 4,
   "metadata": {},
   "outputs": [
    {
     "data": {
      "image/png": "[encoded data removed]",
      "text/plain": [
       "<Figure size 432x288 with 1 Axes>"
      ]
     },
     "metadata": {
      "needs_background": "light"
     },
     "output_type": "display_data"
    }
   ],
   "source": [
    "plt.figure()\n",
    "plt.scatter(df_day['Te'][~weekend], df_day['Building 6 kW'][~weekend], label='Week day')\n",
    "plt.scatter(df_day['Te'][weekend], df_day['Building 6 kW'][weekend], label='Week end')\n",
    "plt.xlabel('Outdoor temperature (C)')\n",
    "plt.ylabel('Mean daily power (kW)')\n",
    "plt.legend()\n",
    "plt.show()"
   ]
  },
  {
   "cell_type": "markdown",
   "metadata": {},
   "source": [
    "Each dot is one day. This plot clearly shows two things:\n",
    "* Week days and week ends are separated: in the following, we should only keep week days for the energy signature model.\n",
    "* The power is clearly influenced by low and high temperatures. The trend seems close to linear on each side, confirming the choice of the energy signature model (this particular building was not chosen randomly...)\n",
    "\n",
    "## Model definition and training\n",
    "\n",
    "The energy signature model is an expression of the total electric consumption of a building as a function of the outdoor temperature and up to five fixed parameters. The notations of the code below match the equations given earlier."
   ]
  },
  {
   "cell_type": "code",
   "execution_count": 5,
   "metadata": {},
   "outputs": [],
   "source": [
    "def signature(T, Phi_b, T_b1, T_b2, HLC_1, HLC_2):\n",
    "    \"\"\"\n",
    "    input : temperature T, and five parameters\n",
    "    output: power P\n",
    "    \"\"\"\n",
    "\n",
    "    P = Phi_b * np.ones(len(T))\n",
    "\n",
    "    mask1 = T < T_b1\n",
    "    P[mask1] += HLC_1 * (T_b1-T[mask1])\n",
    "\n",
    "    mask2 = T > T_b2\n",
    "    P[mask2] += HLC_2 * (T[mask2]-T_b2)\n",
    "\n",
    "    return P"
   ]
  },
  {
   "cell_type": "markdown",
   "metadata": {},
   "source": [
    "Now that this evaluation function is defined, we can use it in a curve fitting algorithm which will find the optimal parameters to match a given dataset: the `curve_fit` method of the `scipy.optimize` library. The week end days are filtered out. The method requires a starting point `p0` for the parameters, which we can estimate from the graph above."
   ]
  },
  {
   "cell_type": "code",
   "execution_count": 6,
   "metadata": {},
   "outputs": [
    {
     "name": "stdout",
     "output_type": "stream",
     "text": [
      "Baseline power: 34.57 kW\n",
      "Lower threshold temperature: 6.53 C\n",
      "Upper threshold temperature: 15.62 C\n",
      "HLC (winter): 1.38 kW/K\n",
      "HLC (summer): 1.18 kW/K\n"
     ]
    }
   ],
   "source": [
    "from scipy.optimize import curve_fit\n",
    "\n",
    "T = df_day['Te'][~weekend]\n",
    "P = df_day['Building 6 kW'][~weekend]\n",
    "\n",
    "popt, pcov = curve_fit(signature,\n",
    "                       xdata = T,\n",
    "                       ydata = P,\n",
    "                       p0 = [20, 10, 15, 1.5, 1.5])\n",
    "\n",
    "print('Baseline power: %.2f kW' % popt[0])\n",
    "print('Lower threshold temperature: %.2f C' % popt[1])\n",
    "print('Upper threshold temperature: %.2f C' % popt[2])\n",
    "print('HLC (winter): %.2f kW/K' % popt[3])\n",
    "print('HLC (summer): %.2f kW/K' % popt[4])"
   ]
  },
  {
   "cell_type": "code",
   "execution_count": 7,
   "metadata": {},
   "outputs": [
    {
     "data": {
      "image/png": "[encoded data removed]",
      "text/plain": [
       "<Figure size 432x288 with 1 Axes>"
      ]
     },
     "metadata": {
      "needs_background": "light"
     },
     "output_type": "display_data"
    }
   ],
   "source": [
    "# Plot the results: comparing the fitted model with its data\n",
    "xx = np.linspace(T.min(), T.max())\n",
    "yy = signature(xx, popt[0], popt[1], popt[2], popt[3], popt[4])\n",
    "\n",
    "plt.figure()\n",
    "plt.scatter(T, P, label='data', color='teal')\n",
    "plt.plot(xx, yy, label='model', color='red')\n",
    "plt.xlabel('Outdoor temperature (C)')\n",
    "plt.ylabel('Mean daily power (kW)')\n",
    "plt.legend()\n",
    "plt.show()"
   ]
  },
  {
   "cell_type": "markdown",
   "metadata": {},
   "source": [
    "The model seems well fitted with the trend in the data. As this is a simple exercise, we are not analysing the indicators of statistical significance of the parameters: this will be done in other methods such as ordinary linear regression.\n",
    "\n",
    "## Further questions\n",
    "\n",
    "### Comparing the HLC estimation across several years\n",
    "\n",
    "Since we have three data files for the same building, and each file is one year of measurements, we can check if the estimation of HLC is consistent across these years. In order to do this quickly, let us automate the steps described above into a single function that will return the optimal parameters as a function of only the datafile (this function requires that the labels of all files match)."
   ]
  },
  {
   "cell_type": "code",
   "execution_count": 8,
   "metadata": {},
   "outputs": [
    {
     "name": "stdout",
     "output_type": "stream",
     "text": [
      "HLC (heating): 1.38 kW/K, 1.25 kW/K, 2.03 kW/K\n",
      "HLC (cooling): 1.18 kW/K, 0.98 kW/K, 0.89 kW/K\n"
     ]
    }
   ],
   "source": [
    "def prepare_data(datafile):\n",
    "    \n",
    "    # Read data\n",
    "    df = pd.read_csv(datafile)\n",
    "    # Process the data\n",
    "    df.set_index(pd.to_datetime(df['Date']), inplace=True)\n",
    "    df['Te'] = (df['OAT']-32) * 5/9\n",
    "    # New dataframe for the daily averaged data\n",
    "    df_day = df.resample('D').mean()\n",
    "    # Week days\n",
    "    df_day['week_day'] = [df_day.index[_].weekday() for _ in range(len(df_day))]\n",
    "    df_day['weekend'] = (df_day['week_day']==5) | (df_day['week_day']==6)\n",
    "    \n",
    "    return df_day\n",
    "\n",
    "\n",
    "def estimate_hlc(datafile):\n",
    "    \n",
    "    df_day = prepare_data(datafile)\n",
    "    \n",
    "    popt, pcov = curve_fit(signature,\n",
    "                           xdata = df_day['Te'][~df_day['weekend']],\n",
    "                           ydata = df_day['Building 6 kW'][~df_day['weekend']],\n",
    "                           p0 = [20, 10, 15, 1.5, 1.5])\n",
    "    \n",
    "    return popt\n",
    "\n",
    "popt_0 = estimate_hlc('data/building60preoffice.csv')\n",
    "popt_1 = estimate_hlc('data/building61duringoffice.csv')\n",
    "popt_2 = estimate_hlc('data/building62postoffice.csv')\n",
    "\n",
    "print('HLC (heating): %.2f kW/K, %.2f kW/K, %.2f kW/K' % (popt_0[3], popt_1[3], popt_2[3]))\n",
    "print('HLC (cooling): %.2f kW/K, %.2f kW/K, %.2f kW/K' % (popt_0[4], popt_1[4], popt_2[4]))"
   ]
  },
  {
   "cell_type": "markdown",
   "metadata": {},
   "source": [
    "The values are somehow consistent, but the last year of observation shows a much higher heating consumption relatively to the outdoor temperature. This method can for instance be used to estimate the impact of energy conservation measures.\n",
    "\n",
    "### Predicting the energy use\n",
    "\n",
    "Another purpose of the energy signature model is to predict the energy use of a building, supposing that forecasts of the outdoor temperature are available. In the example below, we will see if the parameters learned in the first year of measurements, using `building60preoffice.csv`, can forecast the consumption observed on the next two years."
   ]
  },
  {
   "cell_type": "code",
   "execution_count": 9,
   "metadata": {},
   "outputs": [
    {
     "data": {
      "image/png": "[encoded data removed]",
      "text/plain": [
       "<Figure size 720x288 with 2 Axes>"
      ]
     },
     "metadata": {
      "needs_background": "light"
     },
     "output_type": "display_data"
    }
   ],
   "source": [
    "# Loading and processing the data files for the second and third years\n",
    "df_day_1 = prepare_data('data/building61duringoffice.csv')\n",
    "df_day_2 = prepare_data('data/building62postoffice.csv')\n",
    "\n",
    "# Measured consumptions and temperatures\n",
    "T_1 = df_day_1['Te'][~df_day_1['weekend']]\n",
    "T_2 = df_day_2['Te'][~df_day_2['weekend']]\n",
    "P_real_1 = df_day_1['Building 6 kW'][~df_day_1['weekend']]\n",
    "P_real_2 = df_day_2['Building 6 kW'][~df_day_2['weekend']]\n",
    "# Consumptions of the same years, but predicted by the model trained with the first dataset\n",
    "P_pred_1 = signature(T_1, popt_0[0], popt_0[1], popt_0[2], popt_0[3], popt_0[4])\n",
    "P_pred_2 = signature(T_2, popt_0[0], popt_0[1], popt_0[2], popt_0[3], popt_0[4])\n",
    "\n",
    "plt.figure(figsize=(10,4))\n",
    "plt.subplot(121)\n",
    "plt.scatter(T_1, P_real_1, label='data', color='teal')\n",
    "plt.scatter(T_1, P_pred_1, label='prediction', color='red')\n",
    "plt.xlabel('Outdoor temperature (C)')\n",
    "plt.ylabel('Mean daily power (kW)')\n",
    "plt.legend()\n",
    "plt.subplot(122)\n",
    "plt.scatter(T_2, P_real_2, label='data', color='teal')\n",
    "plt.scatter(T_2, P_pred_2, label='prediction', color='red')\n",
    "plt.xlabel('Outdoor temperature (C)')\n",
    "plt.ylabel('Mean daily power (kW)')\n",
    "plt.legend()\n",
    "plt.show()"
   ]
  },
  {
   "cell_type": "markdown",
   "metadata": {},
   "source": [
    "We can clearly see that the model trained on the first year of data overestimates the actual consumption of the next two years. The main difference seems to be the baseline consumption which has significantly decreased, although it does not seem that the HLC has. This might be the consequence of energy conservation measures concerning other energy uses than heating and cooling."
   ]
  }
 ],
 "metadata": {
  "kernelspec": {
   "display_name": "Python 3 (ipykernel)",
   "language": "python",
   "name": "python3"
  },
  "language_info": {
   "codemirror_mode": {
    "name": "ipython",
    "version": 3
   },
   "file_extension": ".py",
   "mimetype": "text/x-python",
   "name": "python",
   "nbconvert_exporter": "python",
   "pygments_lexer": "ipython3",
   "version": "3.7.11"
  }
 },
 "nbformat": 4,
 "nbformat_minor": 2
}
