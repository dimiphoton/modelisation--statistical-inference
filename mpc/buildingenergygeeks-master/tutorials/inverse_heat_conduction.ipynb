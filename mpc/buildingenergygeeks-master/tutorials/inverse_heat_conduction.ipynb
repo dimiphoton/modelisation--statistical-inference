{
 "cells": [
  {
   "cell_type": "markdown",
   "metadata": {},
   "source": [
    "This page is a tutorial on how to solve the inverse heat conduction problem (IHCP) with Python code. It is mostly based on [this series of articles](http://www.techniques-ingenieur.fr/base-documentaire/energies-th4/transferts-thermiques-42214210/problemes-inverses-en-diffusion-thermique-be8266/) (in French) that give a great introduction to inverse problems in heat transfer.\n",
    "\n",
    "## Introduction\n",
    "\n",
    "The physical problem is 1D transient heat flow in a finite wall:\n",
    "\n",
    "<img src='figures/mat_ihcp1.png' width=250 />\n",
    "\n",
    "\n",
    "The problem is one-dimensional heat conduction inside a wall of thermal conductivity $\\lambda$ and thickness $e$. One boundary is subjected to a heat flow $u$ while the other boundary is either insulated ($h=0$) or open ($h>0$). A temperature sensor is placed at a certain location $x_s$ within the medium. The initial temperature is uniform $T_0 = 0^{\\circ}C$.\n",
    "\n",
    "If the heat input $u$ and the material properties are known, calculating the evolution of temperature is straightforward, and may even have an exact analytical solution under some assumptions. On the opposite, the **inverse** heat conduction problem is the estimation of the time-varying boundary heat flow from noisy temperature measurements.\n",
    "\n",
    "<img src='figures/mat_ihcp2.png' width=700 />\n",
    "\n",
    "The input to the inverse problem are measurements of temperature, which may have been recorded anywhere within the wall (see left panel of the figure above). The target is to reconstruct the history of the heat flow on the left boundary of the wall (see right panel of the figure above). We assume that the thermal conductivity $\\lambda$ and sensor position $x_s$ are known.\n",
    "\n",
    "Since the heat flow is a function of time, the trick to make it identifiable by the inverse problem is to parameterise it into a finite set of $n$ elementary functions $f_j$:\n",
    "\\begin{equation}\n",
    "u\\left(t\\right) = \\sum_{j=1}^{n}{u_j f_j(t)}\n",
    "\\end{equation}\n",
    "Hence, the problem actually has $n$ unknowns, assembled into a vector **u** = [$u_j; j \\in \\{1...n\\}$]. The proper choice for the number of elementary functions is not really the topic of this tutorial, although it is [an important issue](http://www.techniques-ingenieur.fr/base-documentaire/energies-th4/transferts-thermiques-42214210/problemes-inverses-en-diffusion-thermique-be8266/)."
   ]
  },
  {
   "cell_type": "markdown",
   "metadata": {},
   "source": [
    "## Background\n",
    "\n",
    "### Model\n",
    "The physical model is the 1D heat conduction equation in a finite medium of heat capacity $\\rho c_p$ and conductivity $\\lambda$:\n",
    "\n",
    "\\begin{align}\n",
    "\\rho c_p \\frac{\\partial T}{\\partial t} = \\lambda \\frac{ \\partial^2 T}{\\partial x^2}\n",
    "\\end{align}\n",
    "\n",
    "Assorted with the following boundary conditions: a prescribed heat flow $u(t)$ on the left boundary and a type-3 condition ($h$, $T_\\infty$) on the right boundary\n",
    "\n",
    "\\begin{align}\n",
    "-\\lambda \\dfrac{\\partial T}{\\partial x} & = u\\left(t\\right) & \\quad \\mathrm{if} \\quad x = 0 \\\\\n",
    "-\\lambda \\dfrac{\\partial T}{\\partial x} & = h \\left(T-T_\\infty\\right) & \\quad \\mathrm{if} \\quad x = e\n",
    "\\end{align}"
   ]
  },
  {
   "cell_type": "markdown",
   "metadata": {},
   "source": [
    "### Discretisation\n",
    "In order to solve the conservation equation by the finite difference method, the medium is discretised into $N$ equally spaced nodes. The temperature at each node may be assembled into a matrix:\n",
    "$ \\mathbf{T} = \\left[T_1(t) \\; T_2(t) \\; ... \\; T_N(t) \\right] $ ;\n",
    "where the time is also discretised: $t \\in \\{t_0, t_1... t_k, t_{k+1}... t_K\\}$. The size of the entire temperature matrix of the problem is then [$K \\times N$].\n",
    "\n",
    "This discretisation allows summarizing the conservation equation\n",
    "\\begin{equation}\n",
    "\\frac{\\mathrm{d} \\mathbf{T}}{\\mathrm{d} t} = \\mathbf{A} \\mathbf{T} + \\mathbf{b}u\\left(t\\right)\n",
    "\\end{equation}\n",
    "with the **A** and **b** matrices defined as follows\n",
    "\n",
    "\\begin{align}\n",
    "\\mathbf{A} & = \\frac{a}{\\Delta x^2}\n",
    "\\left[ \\begin{array}{ccccc}\n",
    "-2 & 2 & 0 & ... & 0 \\\\\n",
    "1 & -2 & 1 & & 0 \\\\\n",
    "0 & & & & \\\\\n",
    "... & & 1 & -2 & 1 \\\\\n",
    "0 & ... & 0 & 2 & -2\\left(1+\\mathrm{Bi}\\right) \\\\\n",
    "\\end{array} \\right]\n",
    "\\end{align}\n",
    "\n",
    "\\begin{align}\n",
    "\\mathbf{b} & = \\frac{2}{\\rho c_p \\Delta x}\n",
    "\\left[ \\begin{array}{c}\n",
    "1 \\\\\n",
    "0 \\\\\n",
    "... \\\\\n",
    "0 \\\\\n",
    "\\end{array} \\right]\n",
    "\\end{align}\n",
    "\n",
    "where $a=\\lambda / \\rho c_p$ is the thermal diffusivity and Bi=$h\\Delta x/\\lambda$ is the Biot number."
   ]
  },
  {
   "cell_type": "markdown",
   "metadata": {},
   "source": [
    "### Inverse problem: solving $u$ from $T$\n",
    "The temperature is not known through the entire wall, but only at a specific sensor position $x_s$. Knowing the vector of temperature measurements on this spot $\\mathbf{T}_\\mathrm{obs}$ (size [$K \\times 1$]), the heat flow $u(t)$ may be computed by inversing the linear system of equations:\n",
    "\n",
    "\\begin{equation}\n",
    "\\mathbf{T}_\\mathrm{obs} = \\mathbf{T}(x_s,t) = \\mathbf{S} \\; \\mathbf{u}\n",
    "\\end{equation}\n",
    "\n",
    "where **S** is the sensitivity matrix of size [$K \\times n$]:\n",
    "\n",
    "\\begin{equation}\n",
    "S_{kj} = \\mathbf{C} \\int_{t_0}^{t_k}{\\exp\\left[\\mathbf{A}\\left(t_k-\\tau\\right)\\right]\\mathbf{b}f_j\\left(\\tau\\right)\\mathrm{d}\\tau}\n",
    "\\end{equation}\n",
    "\n",
    "Note that this is only valid in the specific conditions $\\mathbf{T}(t_0)=T_\\infty=0^\\circ$C. In this expression, the vector **C** (size [$1 \\times N$]) points to the sensor position within the grid (its only non-zero value is at the position of the sensor $x_s$ in the space discretisation):\n",
    "\n",
    "\\begin{equation}\n",
    "\\mathbf{C} = \\left[0 \\; 0 \\; ... \\; 1 \\; ... \\; 0 \\right]\n",
    "\\end{equation}\n",
    "\n",
    "Since the sensitivity matrix is certainly not square (unless we are doing something wrong), the inversion of the linear system yields the final expression for the heat flow:\n",
    "\\begin{equation}\n",
    "\\mathbf{u} = \\left[\\left(\\mathbf{S}^T\\mathbf{S}\\right)^{-1}\\mathbf{S}^T \\right] \\mathbf{T}_\\mathrm{obs}\n",
    "\\end{equation}\n",
    "And that's it for the math. Now let's look at some code."
   ]
  },
  {
   "cell_type": "markdown",
   "metadata": {},
   "source": [
    "##  Python code\n",
    "\n",
    "### Physical specifications\n",
    "Let's start with generic conditions of the problem: the space discretisation, material properties, initial and boundary conditions."
   ]
  },
  {
   "cell_type": "code",
   "execution_count": 1,
   "metadata": {},
   "outputs": [],
   "source": [
    "import numpy as np\n",
    "\n",
    "# Space discretisation\n",
    "N = 21                  # number of nodes in the mesh\n",
    "delta_x = 0.05 / (N-1)  # spacing between nodes\n",
    "\n",
    "# Material properties\n",
    "lambda_ = 0.3           # heat conductivity\n",
    "rho_cp  = 1.2e6         # heat capacity\n",
    "a = lambda_ / rho_cp    # heat diffusivity\n",
    "\n",
    "# Initial and boundary conditions\n",
    "h = 0                   # surface transfer coefficient on the right boundary\n",
    "T_initial = 0           # initial temperature\n",
    "Biot = h * delta_x / lambda_"
   ]
  },
  {
   "cell_type": "markdown",
   "metadata": {},
   "source": [
    "### Input data\n",
    "Measurements are provided in a separate .txt file (available in the repository)."
   ]
  },
  {
   "cell_type": "code",
   "execution_count": 2,
   "metadata": {},
   "outputs": [],
   "source": [
    "import pandas\n",
    "data_ = pandas.read_csv('data/ihcp_data.txt', delimiter='\\t')\n",
    "time_ = np.array(data_['t (s)'])    # time discretisation\n",
    "K     = len(time_)                  # number of time steps"
   ]
  },
  {
   "cell_type": "markdown",
   "metadata": {},
   "source": [
    "The main input to the inverse problem are the temperature measurements. In order to make things more interesting, we decide to add some measurement noise in the form of a normal random component of fixed standard deviation. Studying the influence of this noise on the accuracy of the solution is quite interesting, and you may do exactly that with this code."
   ]
  },
  {
   "cell_type": "code",
   "execution_count": 3,
   "metadata": {},
   "outputs": [],
   "source": [
    "T_obs  = np.array(data_['T(e/2)'])\n",
    "T_obs += np.random.normal(0, 0.2, size=np.size(T_obs))"
   ]
  },
  {
   "cell_type": "markdown",
   "metadata": {},
   "source": [
    "We just chose the temperature recorded in the middle of the wall `T(e/2)` as the input to the inverse problem. Hence, the **C** matrix involved in the sensitivity matrix must be defined accordingly:"
   ]
  },
  {
   "cell_type": "code",
   "execution_count": 4,
   "metadata": {},
   "outputs": [],
   "source": [
    "C = np.zeros(N)\n",
    "C[10] = 1"
   ]
  },
  {
   "cell_type": "markdown",
   "metadata": {},
   "source": [
    "### Setting up the system"
   ]
  },
  {
   "cell_type": "markdown",
   "metadata": {},
   "source": [
    "In building the system of linear equations, let us start with the A and b matrices defined above:"
   ]
  },
  {
   "cell_type": "code",
   "execution_count": 5,
   "metadata": {},
   "outputs": [],
   "source": [
    "diag_moy = -2*np.ones(N)\n",
    "diag_sup = np.ones(N-1)\n",
    "diag_inf = np.ones(N-1)\n",
    "diag_moy[-1] += -2*Biot\n",
    "diag_sup[0]  += 1\n",
    "diag_inf[-1] += 1\n",
    "A = a / delta_x**2 * (np.diag(diag_moy)+np.diag(diag_inf, k=-1)+np.diag(diag_sup, k=1))\n",
    "b = np.zeros(N)\n",
    "b[0] += 2./(rho_cp * delta_x)"
   ]
  },
  {
   "cell_type": "markdown",
   "metadata": {},
   "source": [
    "Next, let's define the elementary functions $f_j$ that are used to parameterise **u** into a finite number of unknowns. I chose [hat functions](https://en.wikipedia.org/wiki/Triangular_function) because why not."
   ]
  },
  {
   "cell_type": "code",
   "execution_count": 6,
   "metadata": {},
   "outputs": [],
   "source": [
    "n = 20                                  # number of modes for the discretisation of u\n",
    "time_n = np.linspace(0, time_[-1], n)   # time discretisation of u\n",
    "\n",
    "def f_hat(t, j, time_n):\n",
    "    \"\"\"\n",
    "    Hat function #j defined on a time grid t_vector\n",
    "    t: global time scale\n",
    "    time_n: time scale of the discretisation for u\n",
    "    j: position of the f_hat function on the t_vector scale (1 <= j <= n)\n",
    "    \"\"\"\n",
    "    \n",
    "    delta_t = np.diff(time_n).mean()\n",
    "    \n",
    "    f_rise = (t-time_n[j-1]) / delta_t\n",
    "    f_decr = 1 - (t-time_n[j]) / delta_t\n",
    "    \n",
    "    if j == 0:\n",
    "        is_rise = False\n",
    "    else:\n",
    "        is_rise = (t >= time_n[j-1]) * (t <= time_n[j])\n",
    "        \n",
    "    if j == len(time_n)-1:\n",
    "        is_decr = False\n",
    "    else:\n",
    "        is_decr = (t >= time_n[j]) * (t <= time_n[j+1])\n",
    "    \n",
    "    return f_rise * is_rise + f_decr * is_decr"
   ]
  },
  {
   "cell_type": "markdown",
   "metadata": {},
   "source": [
    "The last step, and not the least, into building the equation system, is to write the sensitivity matrix."
   ]
  },
  {
   "cell_type": "code",
   "execution_count": 7,
   "metadata": {},
   "outputs": [],
   "source": [
    "# The initial time t0 doesnt appear in S, so the matrix has one less line\n",
    "S = np.zeros((K-1, n-1))\n",
    "from scipy.linalg import expm\n",
    "time_indices = range(K)\n",
    "for t in time_indices[1:]:\n",
    "    \n",
    "    tau   = time_[:t+1]\n",
    "    \n",
    "    for j in range(n-1):\n",
    "        \n",
    "        f_tau = f_hat(tau, j, time_n)\n",
    "        # Calculate an integral for each value of S\n",
    "        foo = np.zeros(len(tau))\n",
    "        for i in range(len(tau)):\n",
    "            # This is a scalar\n",
    "            foo[i] = np.dot(C, np.dot( expm(A*(time_[t]-tau[i])), b)) * f_tau[i]\n",
    "        S[t-1,j] = np.trapz(foo, tau)"
   ]
  },
  {
   "cell_type": "markdown",
   "metadata": {},
   "source": [
    "### Solving\n",
    "The system is now defined, and the last thing to do is to solve it. The vector **u** is found directly by (sort of) inversing the sensitivity matrix:"
   ]
  },
  {
   "cell_type": "code",
   "execution_count": 8,
   "metadata": {},
   "outputs": [],
   "source": [
    "u_modes = np.linalg.solve(np.dot(S.T, S), np.dot(S.T, T_obs[1:]))"
   ]
  },
  {
   "cell_type": "markdown",
   "metadata": {},
   "source": [
    "And finally, the actual value of the heat flow is found by going through the elementary functions $f_j$ again:"
   ]
  },
  {
   "cell_type": "code",
   "execution_count": 9,
   "metadata": {},
   "outputs": [],
   "source": [
    "u = np.zeros(K)\n",
    "for j in range(n-1):\n",
    "    u += u_modes[j] * f_hat(time_, j, time_n)"
   ]
  },
  {
   "cell_type": "markdown",
   "metadata": {},
   "source": [
    "Our work here is done. We may now compare our results with the target value of the heat flow."
   ]
  },
  {
   "cell_type": "code",
   "execution_count": 10,
   "metadata": {},
   "outputs": [
    {
     "data": {
      "image/png": "[encoded data removed]",
      "text/plain": [
       "<Figure size 432x288 with 1 Axes>"
      ]
     },
     "metadata": {
      "needs_background": "light"
     },
     "output_type": "display_data"
    }
   ],
   "source": [
    "u_true = data_['U (W/m2)']\n",
    "\n",
    "import matplotlib.pyplot as plt\n",
    "%matplotlib inline\n",
    "\n",
    "plt.figure()\n",
    "plt.plot(time_, u_true, '-k')\n",
    "plt.plot(time_, u, 'or-')\n",
    "\n",
    "plt.xlabel('Time (s)')\n",
    "plt.ylabel('Heat flow (W/m2)')\n",
    "plt.legend(('Target', 'Estimated'))\n",
    "plt.show()"
   ]
  },
  {
   "cell_type": "markdown",
   "metadata": {},
   "source": [
    "As far as real-world inverse problems go, this is a pretty good estimate. An interesting study would now be to look at the influence of a few hypotheses on the quality of the estimation of **u**:\n",
    "* the magnitude of the noise;\n",
    "* the number of modes $n$ versus the measurement sampling time $K$;\n",
    "* the position of the sensor...\n",
    "Should such difficulties add up and compromise the accuracy of the identification, regularisation may quickly become essential."
   ]
  }
 ],
 "metadata": {
  "kernelspec": {
   "display_name": "Python 3 (ipykernel)",
   "language": "python",
   "name": "python3"
  },
  "language_info": {
   "codemirror_mode": {
    "name": "ipython",
    "version": 3
   },
   "file_extension": ".py",
   "mimetype": "text/x-python",
   "name": "python",
   "nbconvert_exporter": "python",
   "pygments_lexer": "ipython3",
   "version": "3.7.11"
  }
 },
 "nbformat": 4,
 "nbformat_minor": 1
}
